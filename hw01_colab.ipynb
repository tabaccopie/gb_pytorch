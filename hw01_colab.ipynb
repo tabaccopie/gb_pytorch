{
  "cells": [
    {
      "cell_type": "code",
      "execution_count": 1,
      "metadata": {
        "id": "_CNZn_3CofVO"
      },
      "outputs": [],
      "source": [
        "import torch"
      ]
    },
    {
      "cell_type": "code",
      "execution_count": null,
      "metadata": {
        "id": "QGYTKAxeofVR"
      },
      "outputs": [],
      "source": [
        "# 1. Создайте случайный FloatTensor размера 3x4x5"
      ]
    },
    {
      "cell_type": "code",
      "source": [
        "x = torch.randn(3, 4, 5)\n",
        "x"
      ],
      "metadata": {
        "colab": {
          "base_uri": "https://localhost:8080/"
        },
        "id": "qFS1I9g8fTr7",
        "outputId": "ec7a0ebd-2658-445f-d6d9-081ce2901793"
      },
      "execution_count": 5,
      "outputs": [
        {
          "output_type": "execute_result",
          "data": {
            "text/plain": [
              "tensor([[[-0.1192, -0.2033, -0.0925,  0.0975, -0.3598],\n",
              "         [-1.1633,  0.4128, -0.1150,  1.3689,  0.1492],\n",
              "         [-0.8891, -0.9465, -0.3476,  1.1804,  0.6070],\n",
              "         [-0.0041, -1.1674, -1.1730, -1.2092, -0.6357]],\n",
              "\n",
              "        [[-0.9143,  0.9681, -1.5015,  0.3508, -0.3861],\n",
              "         [ 0.4342,  0.6481,  0.6926,  1.7013,  1.6251],\n",
              "         [ 0.6270, -0.4476, -0.5777, -2.3564,  1.1775],\n",
              "         [ 0.7533, -0.3332,  0.8863, -1.1731,  0.0465]],\n",
              "\n",
              "        [[ 0.1074,  0.6810,  1.7710, -1.0140, -2.0275],\n",
              "         [-1.0616,  0.4528, -0.5298,  0.0089, -0.0892],\n",
              "         [-0.4547,  0.4957, -0.2965,  0.1500, -1.7896],\n",
              "         [ 1.5109,  1.5919,  1.8025,  1.4040,  0.5190]]])"
            ]
          },
          "metadata": {},
          "execution_count": 5
        }
      ]
    },
    {
      "cell_type": "code",
      "execution_count": null,
      "metadata": {
        "id": "7GV_q8DdofVV"
      },
      "outputs": [],
      "source": [
        "# 2. Выведите его форму (shape)"
      ]
    },
    {
      "cell_type": "code",
      "source": [
        "print('Тензор x: ', x.type(), x.shape)"
      ],
      "metadata": {
        "colab": {
          "base_uri": "https://localhost:8080/"
        },
        "id": "wGKYp4jXgDgX",
        "outputId": "05558527-1b11-4712-a10e-b0e516b9304d"
      },
      "execution_count": 6,
      "outputs": [
        {
          "output_type": "stream",
          "name": "stdout",
          "text": [
            "Тензор x:  torch.FloatTensor torch.Size([3, 4, 5])\n"
          ]
        }
      ]
    },
    {
      "cell_type": "code",
      "execution_count": null,
      "metadata": {
        "id": "f1OTy65FofVX"
      },
      "outputs": [],
      "source": [
        "# 3. Приведите его к форме 6х10"
      ]
    },
    {
      "cell_type": "code",
      "source": [
        "x = torch.reshape(x, [6, 10])\n",
        "x, x.shape"
      ],
      "metadata": {
        "colab": {
          "base_uri": "https://localhost:8080/"
        },
        "id": "w1CS4JXCgKjr",
        "outputId": "b9458b39-bf94-48dd-beea-8e2077ce1669"
      },
      "execution_count": 7,
      "outputs": [
        {
          "output_type": "execute_result",
          "data": {
            "text/plain": [
              "(tensor([[-0.1192, -0.2033, -0.0925,  0.0975, -0.3598, -1.1633,  0.4128, -0.1150,\n",
              "           1.3689,  0.1492],\n",
              "         [-0.8891, -0.9465, -0.3476,  1.1804,  0.6070, -0.0041, -1.1674, -1.1730,\n",
              "          -1.2092, -0.6357],\n",
              "         [-0.9143,  0.9681, -1.5015,  0.3508, -0.3861,  0.4342,  0.6481,  0.6926,\n",
              "           1.7013,  1.6251],\n",
              "         [ 0.6270, -0.4476, -0.5777, -2.3564,  1.1775,  0.7533, -0.3332,  0.8863,\n",
              "          -1.1731,  0.0465],\n",
              "         [ 0.1074,  0.6810,  1.7710, -1.0140, -2.0275, -1.0616,  0.4528, -0.5298,\n",
              "           0.0089, -0.0892],\n",
              "         [-0.4547,  0.4957, -0.2965,  0.1500, -1.7896,  1.5109,  1.5919,  1.8025,\n",
              "           1.4040,  0.5190]]), torch.Size([6, 10]))"
            ]
          },
          "metadata": {},
          "execution_count": 7
        }
      ]
    },
    {
      "cell_type": "code",
      "execution_count": null,
      "metadata": {
        "id": "BEVOv9_TofVe"
      },
      "outputs": [],
      "source": [
        "# 4. Создайте случайный IntTensor размера 10"
      ]
    },
    {
      "cell_type": "code",
      "source": [
        "y = torch.IntTensor(10)\n",
        "y, y.type()"
      ],
      "metadata": {
        "colab": {
          "base_uri": "https://localhost:8080/"
        },
        "id": "6-7asOwpgXgi",
        "outputId": "06f0bac0-d414-4d7c-f8c8-690d9b0887d1"
      },
      "execution_count": 8,
      "outputs": [
        {
          "output_type": "execute_result",
          "data": {
            "text/plain": [
              "(tensor([  97399104,          0,         27,          0,         -1,   16843009,\n",
              "          678913390, 1142959146, 1667855973, 1679834981], dtype=torch.int32),\n",
              " 'torch.IntTensor')"
            ]
          },
          "metadata": {},
          "execution_count": 8
        }
      ]
    },
    {
      "cell_type": "code",
      "source": [
        "# 5. Умножьте созданный FloatTensor на созданный IntTensor поэлементно"
      ],
      "metadata": {
        "id": "TAX3DUiSa07K"
      },
      "execution_count": null,
      "outputs": []
    },
    {
      "cell_type": "code",
      "source": [
        "x*y"
      ],
      "metadata": {
        "colab": {
          "base_uri": "https://localhost:8080/"
        },
        "id": "hc7wHaLrgkpM",
        "outputId": "f56dfa76-3864-485e-916f-b03df34f8e59"
      },
      "execution_count": 9,
      "outputs": [
        {
          "output_type": "execute_result",
          "data": {
            "text/plain": [
              "tensor([[-1.1605e+07, -0.0000e+00, -2.4967e+00,  0.0000e+00,  3.5981e-01,\n",
              "         -1.9593e+07,  2.8027e+08, -1.3149e+08,  2.2832e+09,  2.5066e+08],\n",
              "        [-8.6595e+07, -0.0000e+00, -9.3841e+00,  0.0000e+00, -6.0705e-01,\n",
              "         -6.8355e+04, -7.9258e+08, -1.3407e+09, -2.0168e+09, -1.0679e+09],\n",
              "        [-8.9053e+07,  0.0000e+00, -4.0540e+01,  0.0000e+00,  3.8609e-01,\n",
              "          7.3135e+06,  4.4003e+08,  7.9156e+08,  2.8375e+09,  2.7298e+09],\n",
              "        [ 6.1070e+07, -0.0000e+00, -1.5597e+01, -0.0000e+00, -1.1775e+00,\n",
              "          1.2687e+07, -2.2625e+08,  1.0130e+09, -1.9566e+09,  7.8058e+07],\n",
              "        [ 1.0457e+07,  0.0000e+00,  4.7818e+01, -0.0000e+00,  2.0275e+00,\n",
              "         -1.7880e+07,  3.0743e+08, -6.0551e+08,  1.4803e+07, -1.4990e+08],\n",
              "        [-4.4291e+07,  0.0000e+00, -8.0051e+00,  0.0000e+00,  1.7896e+00,\n",
              "          2.5448e+07,  1.0808e+09,  2.0601e+09,  2.3417e+09,  8.7180e+08]])"
            ]
          },
          "metadata": {},
          "execution_count": 9
        }
      ]
    },
    {
      "cell_type": "code",
      "execution_count": null,
      "metadata": {
        "id": "eUxdWlQZofVi"
      },
      "outputs": [],
      "source": [
        "# 6. Умножьте тензор матрично на себя, чтобы результат был размерности 6x6\n",
        "# Подсказка: .dot может не подойти"
      ]
    },
    {
      "cell_type": "code",
      "source": [
        "x @ x.T"
      ],
      "metadata": {
        "colab": {
          "base_uri": "https://localhost:8080/"
        },
        "id": "AQTXjgL2go21",
        "outputId": "a953e167-b011-46e1-a127-f23c5be9b0b2"
      },
      "execution_count": 11,
      "outputs": [
        {
          "output_type": "execute_result",
          "data": {
            "text/plain": [
              "tensor([[ 3.6361, -1.8653,  2.4783, -3.2985,  1.7973,  1.3311],\n",
              "        [-1.8653,  8.1740, -4.0630, -1.2642, -3.6401, -6.8777],\n",
              "        [ 2.4783, -4.0630, 10.9234, -2.6159, -2.3352,  8.2526],\n",
              "        [-3.2985, -1.2642, -2.6159, 10.7086, -2.6934, -2.2144],\n",
              "        [ 1.7973, -3.6401, -2.3352, -2.6934, 10.3716,  1.3683],\n",
              "        [ 1.3311, -6.8777,  8.2526, -2.2144,  1.3683, 14.0720]])"
            ]
          },
          "metadata": {},
          "execution_count": 11
        }
      ]
    },
    {
      "cell_type": "code",
      "source": [
        "torch.matmul(x, x.T)"
      ],
      "metadata": {
        "colab": {
          "base_uri": "https://localhost:8080/"
        },
        "id": "1HfcrSR8hO0z",
        "outputId": "9170b984-6410-44fd-95cd-ce03ff51a87d"
      },
      "execution_count": 12,
      "outputs": [
        {
          "output_type": "execute_result",
          "data": {
            "text/plain": [
              "tensor([[ 3.6361, -1.8653,  2.4783, -3.2985,  1.7973,  1.3311],\n",
              "        [-1.8653,  8.1740, -4.0630, -1.2642, -3.6401, -6.8777],\n",
              "        [ 2.4783, -4.0630, 10.9234, -2.6159, -2.3352,  8.2526],\n",
              "        [-3.2985, -1.2642, -2.6159, 10.7086, -2.6934, -2.2144],\n",
              "        [ 1.7973, -3.6401, -2.3352, -2.6934, 10.3716,  1.3683],\n",
              "        [ 1.3311, -6.8777,  8.2526, -2.2144,  1.3683, 14.0720]])"
            ]
          },
          "metadata": {},
          "execution_count": 12
        }
      ]
    },
    {
      "cell_type": "code",
      "execution_count": null,
      "metadata": {
        "id": "u3V6CsNkofVj"
      },
      "outputs": [],
      "source": [
        "# 7. Посчитайте производную функции y = x**3 + z - 75t в точке (1, 0.5, 2)"
      ]
    },
    {
      "cell_type": "code",
      "source": [
        "x = torch.autograd.Variable(torch.FloatTensor([1]),   requires_grad = True)\n",
        "z = torch.autograd.Variable(torch.FloatTensor([0.5]), requires_grad = True)\n",
        "t = torch.autograd.Variable(torch.FloatTensor([2]),   requires_grad = True)\n",
        "\n",
        "y = x**3 + z -75*t\n",
        "\n",
        "y.backward()\n",
        "\n",
        "(x.grad, z.grad, t.grad)"
      ],
      "metadata": {
        "colab": {
          "base_uri": "https://localhost:8080/"
        },
        "id": "hkdU0pDohXBe",
        "outputId": "f855280c-b65b-42dc-9ef6-d96076c4a0c7"
      },
      "execution_count": 14,
      "outputs": [
        {
          "output_type": "execute_result",
          "data": {
            "text/plain": [
              "(tensor([3.]), tensor([1.]), tensor([-75.]))"
            ]
          },
          "metadata": {},
          "execution_count": 14
        }
      ]
    },
    {
      "cell_type": "code",
      "execution_count": null,
      "metadata": {
        "id": "FzH6QkyxofVm"
      },
      "outputs": [],
      "source": [
        "# 8. Создайте единичный тензор размера 5x6"
      ]
    },
    {
      "cell_type": "code",
      "source": [
        "one_t = torch.ones([5, 6])\n",
        "one_t, one_t.shape"
      ],
      "metadata": {
        "colab": {
          "base_uri": "https://localhost:8080/"
        },
        "id": "C3ZB58pZiFvT",
        "outputId": "a801dfe1-9952-46cc-bd40-e54ca1457fe0"
      },
      "execution_count": 15,
      "outputs": [
        {
          "output_type": "execute_result",
          "data": {
            "text/plain": [
              "(tensor([[1., 1., 1., 1., 1., 1.],\n",
              "         [1., 1., 1., 1., 1., 1.],\n",
              "         [1., 1., 1., 1., 1., 1.],\n",
              "         [1., 1., 1., 1., 1., 1.],\n",
              "         [1., 1., 1., 1., 1., 1.]]), torch.Size([5, 6]))"
            ]
          },
          "metadata": {},
          "execution_count": 15
        }
      ]
    },
    {
      "cell_type": "code",
      "execution_count": null,
      "metadata": {
        "id": "z49ttvWPofVo"
      },
      "outputs": [],
      "source": [
        "# 9. Переведите его в формат numpy"
      ]
    },
    {
      "cell_type": "code",
      "source": [
        "one_t_n = one_t.numpy()\n",
        "one_t_n"
      ],
      "metadata": {
        "colab": {
          "base_uri": "https://localhost:8080/"
        },
        "id": "XULYNr0JiQqR",
        "outputId": "de951a66-cf0e-4904-9eea-750eeb6130bb"
      },
      "execution_count": 16,
      "outputs": [
        {
          "output_type": "execute_result",
          "data": {
            "text/plain": [
              "array([[1., 1., 1., 1., 1., 1.],\n",
              "       [1., 1., 1., 1., 1., 1.],\n",
              "       [1., 1., 1., 1., 1., 1.],\n",
              "       [1., 1., 1., 1., 1., 1.],\n",
              "       [1., 1., 1., 1., 1., 1.]], dtype=float32)"
            ]
          },
          "metadata": {},
          "execution_count": 16
        }
      ]
    }
  ],
  "metadata": {
    "kernelspec": {
      "display_name": "Python 3",
      "language": "python",
      "name": "python3"
    },
    "language_info": {
      "codemirror_mode": {
        "name": "ipython",
        "version": 3
      },
      "file_extension": ".py",
      "mimetype": "text/x-python",
      "name": "python",
      "nbconvert_exporter": "python",
      "pygments_lexer": "ipython3",
      "version": "3.7.4"
    },
    "colab": {
      "name": "gbpytorch_hw01_colab.ipynb",
      "provenance": [],
      "collapsed_sections": []
    }
  },
  "nbformat": 4,
  "nbformat_minor": 0
}