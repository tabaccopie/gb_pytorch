{
  "nbformat": 4,
  "nbformat_minor": 0,
  "metadata": {
    "colab": {
      "name": "gb_pytorch_hw03.ipynb",
      "provenance": [],
      "collapsed_sections": []
    },
    "kernelspec": {
      "name": "python3",
      "display_name": "Python 3"
    },
    "language_info": {
      "name": "python"
    },
    "accelerator": "GPU"
  },
  "cells": [
    {
      "cell_type": "markdown",
      "source": [
        "# Домашнее задание\n",
        "\n",
        "Будем практиковаться на датасете недвижимости (sklearn.datasets.fetch_california_housing)\n",
        "\n",
        "Ваша задача:\n",
        "1. Создать Dataset для загрузки данных\n",
        "2. Обернуть его в Dataloader\n",
        "3. Написать архитектуру сети, которая предсказывает стоимость недвижимости. Сеть должна включать BatchNorm слои и Dropout (или НЕ включать, но нужно обосновать)\n",
        "4. Сравните сходимость Adam, RMSProp и SGD, сделайте вывод по качеству работы модели\n",
        "\n",
        "train-test разделение нужно сделать с помощью sklearn random_state=13, test_size = 0.25"
      ],
      "metadata": {
        "id": "_1kh-e0oXz7V"
      }
    },
    {
      "cell_type": "code",
      "source": [
        "!pip install torchmetrics"
      ],
      "metadata": {
        "colab": {
          "base_uri": "https://localhost:8080/"
        },
        "id": "Rkv3Yd0Kqqvq",
        "outputId": "dd724763-cacd-4e37-9d86-251028d68128"
      },
      "execution_count": 2,
      "outputs": [
        {
          "output_type": "stream",
          "name": "stdout",
          "text": [
            "Collecting torchmetrics\n",
            "  Downloading torchmetrics-0.8.2-py3-none-any.whl (409 kB)\n",
            "\u001b[?25l\r\u001b[K     |▉                               | 10 kB 35.9 MB/s eta 0:00:01\r\u001b[K     |█▋                              | 20 kB 40.6 MB/s eta 0:00:01\r\u001b[K     |██▍                             | 30 kB 44.8 MB/s eta 0:00:01\r\u001b[K     |███▏                            | 40 kB 35.2 MB/s eta 0:00:01\r\u001b[K     |████                            | 51 kB 38.8 MB/s eta 0:00:01\r\u001b[K     |████▉                           | 61 kB 42.9 MB/s eta 0:00:01\r\u001b[K     |█████▋                          | 71 kB 29.1 MB/s eta 0:00:01\r\u001b[K     |██████▍                         | 81 kB 30.0 MB/s eta 0:00:01\r\u001b[K     |███████▏                        | 92 kB 32.0 MB/s eta 0:00:01\r\u001b[K     |████████                        | 102 kB 33.9 MB/s eta 0:00:01\r\u001b[K     |████████▉                       | 112 kB 33.9 MB/s eta 0:00:01\r\u001b[K     |█████████▋                      | 122 kB 33.9 MB/s eta 0:00:01\r\u001b[K     |██████████▍                     | 133 kB 33.9 MB/s eta 0:00:01\r\u001b[K     |███████████▏                    | 143 kB 33.9 MB/s eta 0:00:01\r\u001b[K     |████████████                    | 153 kB 33.9 MB/s eta 0:00:01\r\u001b[K     |████████████▉                   | 163 kB 33.9 MB/s eta 0:00:01\r\u001b[K     |█████████████▋                  | 174 kB 33.9 MB/s eta 0:00:01\r\u001b[K     |██████████████▍                 | 184 kB 33.9 MB/s eta 0:00:01\r\u001b[K     |███████████████▏                | 194 kB 33.9 MB/s eta 0:00:01\r\u001b[K     |████████████████                | 204 kB 33.9 MB/s eta 0:00:01\r\u001b[K     |████████████████▉               | 215 kB 33.9 MB/s eta 0:00:01\r\u001b[K     |█████████████████▋              | 225 kB 33.9 MB/s eta 0:00:01\r\u001b[K     |██████████████████▍             | 235 kB 33.9 MB/s eta 0:00:01\r\u001b[K     |███████████████████▏            | 245 kB 33.9 MB/s eta 0:00:01\r\u001b[K     |████████████████████            | 256 kB 33.9 MB/s eta 0:00:01\r\u001b[K     |████████████████████▉           | 266 kB 33.9 MB/s eta 0:00:01\r\u001b[K     |█████████████████████▋          | 276 kB 33.9 MB/s eta 0:00:01\r\u001b[K     |██████████████████████▍         | 286 kB 33.9 MB/s eta 0:00:01\r\u001b[K     |███████████████████████▏        | 296 kB 33.9 MB/s eta 0:00:01\r\u001b[K     |████████████████████████        | 307 kB 33.9 MB/s eta 0:00:01\r\u001b[K     |████████████████████████▉       | 317 kB 33.9 MB/s eta 0:00:01\r\u001b[K     |█████████████████████████▋      | 327 kB 33.9 MB/s eta 0:00:01\r\u001b[K     |██████████████████████████▍     | 337 kB 33.9 MB/s eta 0:00:01\r\u001b[K     |███████████████████████████▏    | 348 kB 33.9 MB/s eta 0:00:01\r\u001b[K     |████████████████████████████    | 358 kB 33.9 MB/s eta 0:00:01\r\u001b[K     |████████████████████████████▉   | 368 kB 33.9 MB/s eta 0:00:01\r\u001b[K     |█████████████████████████████▋  | 378 kB 33.9 MB/s eta 0:00:01\r\u001b[K     |██████████████████████████████▍ | 389 kB 33.9 MB/s eta 0:00:01\r\u001b[K     |███████████████████████████████▏| 399 kB 33.9 MB/s eta 0:00:01\r\u001b[K     |████████████████████████████████| 409 kB 33.9 MB/s eta 0:00:01\r\u001b[K     |████████████████████████████████| 409 kB 33.9 MB/s \n",
            "\u001b[?25hRequirement already satisfied: numpy>=1.17.2 in /usr/local/lib/python3.7/dist-packages (from torchmetrics) (1.21.6)\n",
            "Requirement already satisfied: torch>=1.3.1 in /usr/local/lib/python3.7/dist-packages (from torchmetrics) (1.11.0+cu113)\n",
            "Collecting pyDeprecate==0.3.*\n",
            "  Downloading pyDeprecate-0.3.2-py3-none-any.whl (10 kB)\n",
            "Requirement already satisfied: packaging in /usr/local/lib/python3.7/dist-packages (from torchmetrics) (21.3)\n",
            "Requirement already satisfied: typing-extensions in /usr/local/lib/python3.7/dist-packages (from torch>=1.3.1->torchmetrics) (4.2.0)\n",
            "Requirement already satisfied: pyparsing!=3.0.5,>=2.0.2 in /usr/local/lib/python3.7/dist-packages (from packaging->torchmetrics) (3.0.9)\n",
            "Installing collected packages: pyDeprecate, torchmetrics\n",
            "Successfully installed pyDeprecate-0.3.2 torchmetrics-0.8.2\n"
          ]
        }
      ]
    },
    {
      "cell_type": "code",
      "source": [
        "import math\n",
        "import torch\n",
        "import pandas as pd\n",
        "import numpy as np\n",
        "import matplotlib.pyplot as plt\n",
        "\n",
        "from sklearn.datasets import fetch_california_housing\n",
        "from sklearn.model_selection import train_test_split\n",
        "from sklearn.preprocessing import MinMaxScaler\n",
        "\n",
        "import torch.nn.functional as F\n",
        "import torch.nn as nn\n",
        "import torchmetrics"
      ],
      "metadata": {
        "id": "z2PprivVbGKQ"
      },
      "execution_count": 3,
      "outputs": []
    },
    {
      "cell_type": "code",
      "source": [
        "housing = fetch_california_housing(data_home=None, download_if_missing=True, return_X_y=False, as_frame=True)\n",
        "df = housing['frame']\n",
        "df"
      ],
      "metadata": {
        "colab": {
          "base_uri": "https://localhost:8080/",
          "height": 424
        },
        "id": "-t0sKrZ3bSMP",
        "outputId": "f5330271-f3e6-4783-86ae-1dd47f1e4f83"
      },
      "execution_count": 4,
      "outputs": [
        {
          "output_type": "execute_result",
          "data": {
            "text/plain": [
              "       MedInc  HouseAge  AveRooms  AveBedrms  Population  AveOccup  Latitude  \\\n",
              "0      8.3252      41.0  6.984127   1.023810       322.0  2.555556     37.88   \n",
              "1      8.3014      21.0  6.238137   0.971880      2401.0  2.109842     37.86   \n",
              "2      7.2574      52.0  8.288136   1.073446       496.0  2.802260     37.85   \n",
              "3      5.6431      52.0  5.817352   1.073059       558.0  2.547945     37.85   \n",
              "4      3.8462      52.0  6.281853   1.081081       565.0  2.181467     37.85   \n",
              "...       ...       ...       ...        ...         ...       ...       ...   \n",
              "20635  1.5603      25.0  5.045455   1.133333       845.0  2.560606     39.48   \n",
              "20636  2.5568      18.0  6.114035   1.315789       356.0  3.122807     39.49   \n",
              "20637  1.7000      17.0  5.205543   1.120092      1007.0  2.325635     39.43   \n",
              "20638  1.8672      18.0  5.329513   1.171920       741.0  2.123209     39.43   \n",
              "20639  2.3886      16.0  5.254717   1.162264      1387.0  2.616981     39.37   \n",
              "\n",
              "       Longitude  MedHouseVal  \n",
              "0        -122.23        4.526  \n",
              "1        -122.22        3.585  \n",
              "2        -122.24        3.521  \n",
              "3        -122.25        3.413  \n",
              "4        -122.25        3.422  \n",
              "...          ...          ...  \n",
              "20635    -121.09        0.781  \n",
              "20636    -121.21        0.771  \n",
              "20637    -121.22        0.923  \n",
              "20638    -121.32        0.847  \n",
              "20639    -121.24        0.894  \n",
              "\n",
              "[20640 rows x 9 columns]"
            ],
            "text/html": [
              "\n",
              "  <div id=\"df-a510d0a4-e508-46a5-b35b-752b353e39be\">\n",
              "    <div class=\"colab-df-container\">\n",
              "      <div>\n",
              "<style scoped>\n",
              "    .dataframe tbody tr th:only-of-type {\n",
              "        vertical-align: middle;\n",
              "    }\n",
              "\n",
              "    .dataframe tbody tr th {\n",
              "        vertical-align: top;\n",
              "    }\n",
              "\n",
              "    .dataframe thead th {\n",
              "        text-align: right;\n",
              "    }\n",
              "</style>\n",
              "<table border=\"1\" class=\"dataframe\">\n",
              "  <thead>\n",
              "    <tr style=\"text-align: right;\">\n",
              "      <th></th>\n",
              "      <th>MedInc</th>\n",
              "      <th>HouseAge</th>\n",
              "      <th>AveRooms</th>\n",
              "      <th>AveBedrms</th>\n",
              "      <th>Population</th>\n",
              "      <th>AveOccup</th>\n",
              "      <th>Latitude</th>\n",
              "      <th>Longitude</th>\n",
              "      <th>MedHouseVal</th>\n",
              "    </tr>\n",
              "  </thead>\n",
              "  <tbody>\n",
              "    <tr>\n",
              "      <th>0</th>\n",
              "      <td>8.3252</td>\n",
              "      <td>41.0</td>\n",
              "      <td>6.984127</td>\n",
              "      <td>1.023810</td>\n",
              "      <td>322.0</td>\n",
              "      <td>2.555556</td>\n",
              "      <td>37.88</td>\n",
              "      <td>-122.23</td>\n",
              "      <td>4.526</td>\n",
              "    </tr>\n",
              "    <tr>\n",
              "      <th>1</th>\n",
              "      <td>8.3014</td>\n",
              "      <td>21.0</td>\n",
              "      <td>6.238137</td>\n",
              "      <td>0.971880</td>\n",
              "      <td>2401.0</td>\n",
              "      <td>2.109842</td>\n",
              "      <td>37.86</td>\n",
              "      <td>-122.22</td>\n",
              "      <td>3.585</td>\n",
              "    </tr>\n",
              "    <tr>\n",
              "      <th>2</th>\n",
              "      <td>7.2574</td>\n",
              "      <td>52.0</td>\n",
              "      <td>8.288136</td>\n",
              "      <td>1.073446</td>\n",
              "      <td>496.0</td>\n",
              "      <td>2.802260</td>\n",
              "      <td>37.85</td>\n",
              "      <td>-122.24</td>\n",
              "      <td>3.521</td>\n",
              "    </tr>\n",
              "    <tr>\n",
              "      <th>3</th>\n",
              "      <td>5.6431</td>\n",
              "      <td>52.0</td>\n",
              "      <td>5.817352</td>\n",
              "      <td>1.073059</td>\n",
              "      <td>558.0</td>\n",
              "      <td>2.547945</td>\n",
              "      <td>37.85</td>\n",
              "      <td>-122.25</td>\n",
              "      <td>3.413</td>\n",
              "    </tr>\n",
              "    <tr>\n",
              "      <th>4</th>\n",
              "      <td>3.8462</td>\n",
              "      <td>52.0</td>\n",
              "      <td>6.281853</td>\n",
              "      <td>1.081081</td>\n",
              "      <td>565.0</td>\n",
              "      <td>2.181467</td>\n",
              "      <td>37.85</td>\n",
              "      <td>-122.25</td>\n",
              "      <td>3.422</td>\n",
              "    </tr>\n",
              "    <tr>\n",
              "      <th>...</th>\n",
              "      <td>...</td>\n",
              "      <td>...</td>\n",
              "      <td>...</td>\n",
              "      <td>...</td>\n",
              "      <td>...</td>\n",
              "      <td>...</td>\n",
              "      <td>...</td>\n",
              "      <td>...</td>\n",
              "      <td>...</td>\n",
              "    </tr>\n",
              "    <tr>\n",
              "      <th>20635</th>\n",
              "      <td>1.5603</td>\n",
              "      <td>25.0</td>\n",
              "      <td>5.045455</td>\n",
              "      <td>1.133333</td>\n",
              "      <td>845.0</td>\n",
              "      <td>2.560606</td>\n",
              "      <td>39.48</td>\n",
              "      <td>-121.09</td>\n",
              "      <td>0.781</td>\n",
              "    </tr>\n",
              "    <tr>\n",
              "      <th>20636</th>\n",
              "      <td>2.5568</td>\n",
              "      <td>18.0</td>\n",
              "      <td>6.114035</td>\n",
              "      <td>1.315789</td>\n",
              "      <td>356.0</td>\n",
              "      <td>3.122807</td>\n",
              "      <td>39.49</td>\n",
              "      <td>-121.21</td>\n",
              "      <td>0.771</td>\n",
              "    </tr>\n",
              "    <tr>\n",
              "      <th>20637</th>\n",
              "      <td>1.7000</td>\n",
              "      <td>17.0</td>\n",
              "      <td>5.205543</td>\n",
              "      <td>1.120092</td>\n",
              "      <td>1007.0</td>\n",
              "      <td>2.325635</td>\n",
              "      <td>39.43</td>\n",
              "      <td>-121.22</td>\n",
              "      <td>0.923</td>\n",
              "    </tr>\n",
              "    <tr>\n",
              "      <th>20638</th>\n",
              "      <td>1.8672</td>\n",
              "      <td>18.0</td>\n",
              "      <td>5.329513</td>\n",
              "      <td>1.171920</td>\n",
              "      <td>741.0</td>\n",
              "      <td>2.123209</td>\n",
              "      <td>39.43</td>\n",
              "      <td>-121.32</td>\n",
              "      <td>0.847</td>\n",
              "    </tr>\n",
              "    <tr>\n",
              "      <th>20639</th>\n",
              "      <td>2.3886</td>\n",
              "      <td>16.0</td>\n",
              "      <td>5.254717</td>\n",
              "      <td>1.162264</td>\n",
              "      <td>1387.0</td>\n",
              "      <td>2.616981</td>\n",
              "      <td>39.37</td>\n",
              "      <td>-121.24</td>\n",
              "      <td>0.894</td>\n",
              "    </tr>\n",
              "  </tbody>\n",
              "</table>\n",
              "<p>20640 rows × 9 columns</p>\n",
              "</div>\n",
              "      <button class=\"colab-df-convert\" onclick=\"convertToInteractive('df-a510d0a4-e508-46a5-b35b-752b353e39be')\"\n",
              "              title=\"Convert this dataframe to an interactive table.\"\n",
              "              style=\"display:none;\">\n",
              "        \n",
              "  <svg xmlns=\"http://www.w3.org/2000/svg\" height=\"24px\"viewBox=\"0 0 24 24\"\n",
              "       width=\"24px\">\n",
              "    <path d=\"M0 0h24v24H0V0z\" fill=\"none\"/>\n",
              "    <path d=\"M18.56 5.44l.94 2.06.94-2.06 2.06-.94-2.06-.94-.94-2.06-.94 2.06-2.06.94zm-11 1L8.5 8.5l.94-2.06 2.06-.94-2.06-.94L8.5 2.5l-.94 2.06-2.06.94zm10 10l.94 2.06.94-2.06 2.06-.94-2.06-.94-.94-2.06-.94 2.06-2.06.94z\"/><path d=\"M17.41 7.96l-1.37-1.37c-.4-.4-.92-.59-1.43-.59-.52 0-1.04.2-1.43.59L10.3 9.45l-7.72 7.72c-.78.78-.78 2.05 0 2.83L4 21.41c.39.39.9.59 1.41.59.51 0 1.02-.2 1.41-.59l7.78-7.78 2.81-2.81c.8-.78.8-2.07 0-2.86zM5.41 20L4 18.59l7.72-7.72 1.47 1.35L5.41 20z\"/>\n",
              "  </svg>\n",
              "      </button>\n",
              "      \n",
              "  <style>\n",
              "    .colab-df-container {\n",
              "      display:flex;\n",
              "      flex-wrap:wrap;\n",
              "      gap: 12px;\n",
              "    }\n",
              "\n",
              "    .colab-df-convert {\n",
              "      background-color: #E8F0FE;\n",
              "      border: none;\n",
              "      border-radius: 50%;\n",
              "      cursor: pointer;\n",
              "      display: none;\n",
              "      fill: #1967D2;\n",
              "      height: 32px;\n",
              "      padding: 0 0 0 0;\n",
              "      width: 32px;\n",
              "    }\n",
              "\n",
              "    .colab-df-convert:hover {\n",
              "      background-color: #E2EBFA;\n",
              "      box-shadow: 0px 1px 2px rgba(60, 64, 67, 0.3), 0px 1px 3px 1px rgba(60, 64, 67, 0.15);\n",
              "      fill: #174EA6;\n",
              "    }\n",
              "\n",
              "    [theme=dark] .colab-df-convert {\n",
              "      background-color: #3B4455;\n",
              "      fill: #D2E3FC;\n",
              "    }\n",
              "\n",
              "    [theme=dark] .colab-df-convert:hover {\n",
              "      background-color: #434B5C;\n",
              "      box-shadow: 0px 1px 3px 1px rgba(0, 0, 0, 0.15);\n",
              "      filter: drop-shadow(0px 1px 2px rgba(0, 0, 0, 0.3));\n",
              "      fill: #FFFFFF;\n",
              "    }\n",
              "  </style>\n",
              "\n",
              "      <script>\n",
              "        const buttonEl =\n",
              "          document.querySelector('#df-a510d0a4-e508-46a5-b35b-752b353e39be button.colab-df-convert');\n",
              "        buttonEl.style.display =\n",
              "          google.colab.kernel.accessAllowed ? 'block' : 'none';\n",
              "\n",
              "        async function convertToInteractive(key) {\n",
              "          const element = document.querySelector('#df-a510d0a4-e508-46a5-b35b-752b353e39be');\n",
              "          const dataTable =\n",
              "            await google.colab.kernel.invokeFunction('convertToInteractive',\n",
              "                                                     [key], {});\n",
              "          if (!dataTable) return;\n",
              "\n",
              "          const docLinkHtml = 'Like what you see? Visit the ' +\n",
              "            '<a target=\"_blank\" href=https://colab.research.google.com/notebooks/data_table.ipynb>data table notebook</a>'\n",
              "            + ' to learn more about interactive tables.';\n",
              "          element.innerHTML = '';\n",
              "          dataTable['output_type'] = 'display_data';\n",
              "          await google.colab.output.renderOutput(dataTable, element);\n",
              "          const docLink = document.createElement('div');\n",
              "          docLink.innerHTML = docLinkHtml;\n",
              "          element.appendChild(docLink);\n",
              "        }\n",
              "      </script>\n",
              "    </div>\n",
              "  </div>\n",
              "  "
            ]
          },
          "metadata": {},
          "execution_count": 4
        }
      ]
    },
    {
      "cell_type": "code",
      "source": [
        "features_list = housing['feature_names']\n",
        "target = housing['target_names'][0]\n",
        "X = df[features_list]\n",
        "y = df[target]"
      ],
      "metadata": {
        "id": "OMVmWeUBce1L"
      },
      "execution_count": 5,
      "outputs": []
    },
    {
      "cell_type": "code",
      "source": [
        "X_train, X_test, y_train, y_test = train_test_split(X, y, test_size=0.25, random_state=13)"
      ],
      "metadata": {
        "id": "7yqateJgbVGg"
      },
      "execution_count": 6,
      "outputs": []
    },
    {
      "cell_type": "code",
      "source": [
        "#стандартизация данных\n",
        "scaler = MinMaxScaler()\n",
        "X_train = scaler.fit_transform(X_train)\n",
        "X_test = scaler.transform(X_test)\n",
        "X_train = torch.FloatTensor(X_train).float()\n",
        "y_train = torch.FloatTensor(y_train.values).float()\n",
        "X_test = torch.FloatTensor(X_test).float()\n",
        "y_test = torch.FloatTensor(y_test.values).float()"
      ],
      "metadata": {
        "id": "Khm_vzmIgUHy"
      },
      "execution_count": 7,
      "outputs": []
    },
    {
      "cell_type": "code",
      "source": [
        "class MyOwnCHousing(torch.utils.data.Dataset):\n",
        "   \n",
        "    def __init__(self, X_data, y_data):\n",
        "        self._X = X_data\n",
        "        self._y = y_data\n",
        "\n",
        "    def __len__(self):\n",
        "        return len(self._X)\n",
        "\n",
        "    def __getitem__(self, idx):\n",
        "        X = self._X[idx] \n",
        "        y = self._y[idx] \n",
        "       \n",
        "        return X, y"
      ],
      "metadata": {
        "id": "zSuoBHqvcDbd"
      },
      "execution_count": 8,
      "outputs": []
    },
    {
      "cell_type": "code",
      "source": [
        "train_dataset = MyOwnCHousing(X_train, y_train)\n",
        "\n",
        "train_loader = torch.utils.data.DataLoader(train_dataset,\n",
        "                          batch_size=128,\n",
        "                          shuffle=True,\n",
        "                          drop_last=True,\n",
        "                          num_workers=0)"
      ],
      "metadata": {
        "id": "XFS15aI7cKHR"
      },
      "execution_count": 9,
      "outputs": []
    },
    {
      "cell_type": "code",
      "source": [
        "train_dataset[0], train_dataset[0][0].shape, train_dataset[0][1].shape "
      ],
      "metadata": {
        "colab": {
          "base_uri": "https://localhost:8080/"
        },
        "id": "gEjJJ4Y4c36J",
        "outputId": "81f4efdb-62d4-482a-cae6-13eefda77a50"
      },
      "execution_count": 10,
      "outputs": [
        {
          "output_type": "execute_result",
          "data": {
            "text/plain": [
              "((tensor([0.2081, 0.6863, 0.0243, 0.0226, 0.0379, 0.0011, 0.1775, 0.6096]),\n",
              "  tensor(2.6800)),\n",
              " torch.Size([8]),\n",
              " torch.Size([]))"
            ]
          },
          "metadata": {},
          "execution_count": 10
        }
      ]
    },
    {
      "cell_type": "code",
      "source": [
        "test_dataset = MyOwnCHousing(X_test, y_test)\n",
        "\n",
        "test_loader = torch.utils.data.DataLoader(test_dataset, \n",
        "                                          batch_size=8,\n",
        "                                          shuffle=False,\n",
        "                                          drop_last=True,\n",
        "                                          num_workers=0)"
      ],
      "metadata": {
        "id": "Q-hY2RfZgnTR"
      },
      "execution_count": 11,
      "outputs": []
    },
    {
      "cell_type": "code",
      "source": [
        "class Perceptron(nn.Module):\n",
        "    def __init__(self, input_dim, output_dim, activation=\"relu\"):\n",
        "        super(Perceptron, self).__init__()\n",
        "        self.fc = nn.Linear(input_dim, output_dim)\n",
        "        self.activation = activation\n",
        "        \n",
        "    def forward(self, x):\n",
        "        x = self.fc(x)\n",
        "        if self.activation == \"relu\":\n",
        "            return F.relu(x)\n",
        "        if self.activation == \"sigmoid\":\n",
        "            return F.sigmoid(x)\n",
        "        raise RuntimeError\n",
        "        \n",
        "class FeedForward(nn.Module):\n",
        "    def __init__(self, input_dim, hidden_dim):\n",
        "        super(FeedForward, self).__init__()\n",
        "        self.bn1 = nn.BatchNorm1d(input_dim)\n",
        "        self.fc1 = Perceptron(input_dim, 2*hidden_dim)\n",
        "        self.dp1 = nn.Dropout(0.25)\n",
        "        self.bn2 = nn.BatchNorm1d(2*hidden_dim)\n",
        "        self.fc2 = Perceptron(2*hidden_dim, hidden_dim)\n",
        "        self.dp2 = nn.Dropout(0.2)\n",
        "        self.bn3 = nn.BatchNorm1d(hidden_dim)\n",
        "        self.fc3 = Perceptron(hidden_dim, 1)\n",
        "        \n",
        "    def forward(self, x):\n",
        "        x = self.bn1(x)\n",
        "        x = self.fc1(x)\n",
        "        x = self.dp1(x)\n",
        "        x = self.bn2(x)\n",
        "        x = self.fc2(x)\n",
        "        x = self.dp2(x)\n",
        "        x = self.bn3(x)\n",
        "        x = self.fc3(x)\n",
        "        return x"
      ],
      "metadata": {
        "id": "E8wf2DxuhI62"
      },
      "execution_count": 12,
      "outputs": []
    },
    {
      "cell_type": "code",
      "source": [
        "# инициализация модели\n",
        "net = FeedForward(8, 400)\n",
        "\n",
        "# компиляция модели\n",
        "criterion = torch.nn.MSELoss(reduction='sum')\n",
        "optimizer = torch.optim.Adam(net.parameters(), lr=0.001)"
      ],
      "metadata": {
        "id": "iq-wfQGfhWxJ"
      },
      "execution_count": 13,
      "outputs": []
    },
    {
      "cell_type": "code",
      "source": [
        "num_epochs = 10\n",
        "\n",
        "train_r2 = torchmetrics.R2Score()\n",
        "test_r2 = torchmetrics.R2Score()\n",
        "\n",
        "net.train()\n",
        "\n",
        "for epoch in range(num_epochs):  \n",
        "    \n",
        "    running_loss, running_items = 0.0, 0.0\n",
        "    \n",
        "    for i, data in enumerate(train_loader):\n",
        "        inputs, target = data[0], data[1]\n",
        "        \n",
        "        optimizer.zero_grad()\n",
        "        outputs = net(inputs)\n",
        "        train_r2(outputs.squeeze(), target)\n",
        "        loss = criterion(outputs.squeeze(), target)\n",
        "        loss.backward()\n",
        "        optimizer.step()\n",
        "\n",
        "        # выводим статистику о процессе обучения\n",
        "        running_loss += loss.item()\n",
        "        running_items += len(target)\n",
        "  \n",
        "        # выводим статистику о процессе обучения\n",
        "        if i % 60 == 0:    # печатаем каждые 60 mini-batches\n",
        "            net.eval()\n",
        "            \n",
        "            print(f'Epoch [{epoch + 1}/{num_epochs}]. ' \\\n",
        "                  f'Step [{i + 1}/{len(train_loader)}]. ' \\\n",
        "                  f'Loss: {running_loss / running_items:.3f}, ', \\\n",
        "                  f'r2_train: {train_r2.compute().item():.3f}, ', end = ' ')\n",
        "            running_loss, running_items = 0.0, 0.0\n",
        "            train_r2.reset()\n",
        "\n",
        "            for i, data in enumerate(test_loader):\n",
        "                test_outputs = net(data[0])\n",
        "                test_r2(test_outputs.squeeze(), data[1])\n",
        "            \n",
        "            print(f'r2_val: {test_r2.compute():.3f}')\n",
        "            test_r2.reset()\n",
        "            net.train()\n",
        "        \n",
        "print('Training is finished!')"
      ],
      "metadata": {
        "colab": {
          "base_uri": "https://localhost:8080/"
        },
        "id": "jIANiPyuiJoE",
        "outputId": "2cb04c70-e476-41fc-9f96-b089f305630d"
      },
      "execution_count": 14,
      "outputs": [
        {
          "output_type": "stream",
          "name": "stdout",
          "text": [
            "Epoch [1/10]. Step [1/120]. Loss: 4.587,  r2_train: -2.739,  r2_val: -2.572\n",
            "Epoch [1/10]. Step [61/120]. Loss: 1.372,  r2_train: -0.044,  r2_val: 0.367\n",
            "Epoch [2/10]. Step [1/120]. Loss: 0.669,  r2_train: 0.387,  r2_val: 0.509\n",
            "Epoch [2/10]. Step [61/120]. Loss: 0.680,  r2_train: 0.483,  r2_val: 0.542\n",
            "Epoch [3/10]. Step [1/120]. Loss: 0.524,  r2_train: 0.540,  r2_val: 0.613\n",
            "Epoch [3/10]. Step [61/120]. Loss: 0.553,  r2_train: 0.583,  r2_val: 0.625\n",
            "Epoch [4/10]. Step [1/120]. Loss: 0.498,  r2_train: 0.612,  r2_val: 0.635\n",
            "Epoch [4/10]. Step [61/120]. Loss: 0.496,  r2_train: 0.628,  r2_val: 0.650\n",
            "Epoch [5/10]. Step [1/120]. Loss: 0.390,  r2_train: 0.641,  r2_val: 0.694\n",
            "Epoch [5/10]. Step [61/120]. Loss: 0.454,  r2_train: 0.651,  r2_val: 0.710\n",
            "Epoch [6/10]. Step [1/120]. Loss: 0.539,  r2_train: 0.672,  r2_val: 0.667\n",
            "Epoch [6/10]. Step [61/120]. Loss: 0.411,  r2_train: 0.689,  r2_val: 0.683\n",
            "Epoch [7/10]. Step [1/120]. Loss: 0.317,  r2_train: 0.662,  r2_val: 0.716\n",
            "Epoch [7/10]. Step [61/120]. Loss: 0.436,  r2_train: 0.671,  r2_val: 0.657\n",
            "Epoch [8/10]. Step [1/120]. Loss: 0.448,  r2_train: 0.683,  r2_val: 0.720\n",
            "Epoch [8/10]. Step [61/120]. Loss: 0.386,  r2_train: 0.703,  r2_val: 0.720\n",
            "Epoch [9/10]. Step [1/120]. Loss: 0.343,  r2_train: 0.705,  r2_val: 0.741\n",
            "Epoch [9/10]. Step [61/120]. Loss: 0.402,  r2_train: 0.702,  r2_val: 0.703\n",
            "Epoch [10/10]. Step [1/120]. Loss: 0.492,  r2_train: 0.706,  r2_val: 0.728\n",
            "Epoch [10/10]. Step [61/120]. Loss: 0.392,  r2_train: 0.706,  r2_val: 0.695\n",
            "Training is finished!\n"
          ]
        }
      ]
    },
    {
      "cell_type": "markdown",
      "source": [
        "#### Протестируем разные метрики"
      ],
      "metadata": {
        "id": "IHzRmpysrzTC"
      }
    },
    {
      "cell_type": "code",
      "source": [
        "def model_testing(model, optimizer, num_epochs):    \n",
        "    \n",
        "    train_r2 = torchmetrics.R2Score()\n",
        "    test_r2 = torchmetrics.R2Score()\n",
        "    \n",
        "    r2_train_list = []\n",
        "    r2_test_list = []\n",
        "    \n",
        "    for epoch in range(num_epochs):\n",
        "        \n",
        "        model.train()\n",
        "        for i, data in enumerate(train_loader):\n",
        "            inputs, target = data[0], data[1] # входные данные с лейблами\n",
        "            # Обнуляем градиент\n",
        "            optimizer.zero_grad()\n",
        "            # Делаем предсказание\n",
        "            outputs = model(inputs)\n",
        "            #метрика\n",
        "            batch_r2 = train_r2(outputs.squeeze(), target)\n",
        "            # Рассчитываем лосс-функцию (функцию потерь)\n",
        "            loss = criterion(outputs.squeeze(), target)\n",
        "            # Вычисляем градиент\n",
        "            loss.backward()\n",
        "            # Обновляем веса (делаем шаг оптимайзера)\n",
        "            optimizer.step()\n",
        "        \n",
        "        model.eval()\n",
        "        for i, data in enumerate(test_loader):\n",
        "            inputs, target = data[0], data[1]\n",
        "            outputs = model(inputs)\n",
        "            test_r2(outputs.squeeze(), target)\n",
        "\n",
        "        # total r2 over all training batches\n",
        "        total_train_r2 = train_r2.compute()\n",
        "        # total r2 over all training batches\n",
        "        total_test_r2 = test_r2.compute()\n",
        "        \n",
        "        r2_train_list.append(total_train_r2)\n",
        "        r2_test_list.append(total_test_r2)\n",
        "        print(f'Epoch {epoch+1}: r2_train = {total_train_r2}, r2_val = {total_test_r2}')\n",
        "\n",
        "        #reset for next epoch\n",
        "        train_r2.reset()\n",
        "        test_r2.reset()\n",
        "    \n",
        "    return r2_train_list, r2_test_list"
      ],
      "metadata": {
        "id": "XK91lddpr2OS"
      },
      "execution_count": 15,
      "outputs": []
    },
    {
      "cell_type": "code",
      "source": [
        "def show_metrics(r2_train_list, r2_test_list, optim):\n",
        "    x = np.arange(1,11,1)\n",
        "    y = r2_train_list\n",
        "    y2 = r2_test_list\n",
        "\n",
        "    plt.plot(x,y,label='R2_train')\n",
        "    plt.plot(x,y2,label='R2_test')\n",
        "\n",
        "    plt.title(f\"Net with {optim}\")   \n",
        "    plt.ylabel('R2_score')   \n",
        "    plt.xlabel('epochs')   \n",
        "    plt.legend()\n",
        "    plt.show()"
      ],
      "metadata": {
        "id": "U8JP3z5jr9L8"
      },
      "execution_count": 16,
      "outputs": []
    },
    {
      "cell_type": "markdown",
      "source": [
        "SGD"
      ],
      "metadata": {
        "id": "kv8RrRZVsYrM"
      }
    },
    {
      "cell_type": "code",
      "source": [
        "model = FeedForward(8, 400)\n",
        "optimizer = torch.optim.SGD(model.parameters(), lr=0.0001, momentum=0.0)\n",
        "r2_train_list_SGD, r2_test_list_SGD = model_testing(model, optimizer, 10)"
      ],
      "metadata": {
        "colab": {
          "base_uri": "https://localhost:8080/"
        },
        "id": "a5O0fQLCsZp0",
        "outputId": "9187c141-6a38-4180-ae8c-9b008b61024c"
      },
      "execution_count": 17,
      "outputs": [
        {
          "output_type": "stream",
          "name": "stdout",
          "text": [
            "Epoch 1: r2_train = -0.07998335361480713, r2_val = 0.4274411201477051\n",
            "Epoch 2: r2_train = 0.38776856660842896, r2_val = 0.5420176386833191\n",
            "Epoch 3: r2_train = 0.4726372957229614, r2_val = 0.57430100440979\n",
            "Epoch 4: r2_train = 0.5139256715774536, r2_val = 0.5831491947174072\n",
            "Epoch 5: r2_train = 0.5476119518280029, r2_val = 0.5925623774528503\n",
            "Epoch 6: r2_train = 0.5823367834091187, r2_val = 0.6100304126739502\n",
            "Epoch 7: r2_train = 0.6125624179840088, r2_val = 0.6668933033943176\n",
            "Epoch 8: r2_train = 0.6390517950057983, r2_val = 0.6604312658309937\n",
            "Epoch 9: r2_train = 0.6592569947242737, r2_val = 0.6935378313064575\n",
            "Epoch 10: r2_train = 0.6723238229751587, r2_val = 0.6867774724960327\n"
          ]
        }
      ]
    },
    {
      "cell_type": "code",
      "source": [
        "show_metrics(r2_train_list_SGD, r2_test_list_SGD, 'SGD')"
      ],
      "metadata": {
        "colab": {
          "base_uri": "https://localhost:8080/",
          "height": 295
        },
        "id": "sZO1H0U5snH6",
        "outputId": "60031896-86e3-4c28-b554-7c1f8c4186a4"
      },
      "execution_count": 18,
      "outputs": [
        {
          "output_type": "display_data",
          "data": {
            "text/plain": [
              "<Figure size 432x288 with 1 Axes>"
            ],
            "image/png": "[encoded data removed]"
          },
          "metadata": {
            "needs_background": "light"
          }
        }
      ]
    },
    {
      "cell_type": "markdown",
      "source": [
        "Adam"
      ],
      "metadata": {
        "id": "EIHqhwIfCja_"
      }
    },
    {
      "cell_type": "code",
      "source": [
        "model = FeedForward(8, 400)\n",
        "optimizer = torch.optim.Adam(model.parameters(), lr=0.001)\n",
        "r2_train_list_Adam, r2_test_list_Adam = model_testing(model, optimizer, 10)"
      ],
      "metadata": {
        "colab": {
          "base_uri": "https://localhost:8080/"
        },
        "id": "eAXvNtiNCkkm",
        "outputId": "f4acc846-05d2-49f1-d154-459e20c48b47"
      },
      "execution_count": 19,
      "outputs": [
        {
          "output_type": "stream",
          "name": "stdout",
          "text": [
            "Epoch 1: r2_train = 0.17094355821609497, r2_val = 0.537878155708313\n",
            "Epoch 2: r2_train = 0.5030573606491089, r2_val = 0.6066991090774536\n",
            "Epoch 3: r2_train = 0.5924931764602661, r2_val = 0.6710516214370728\n",
            "Epoch 4: r2_train = 0.6300135850906372, r2_val = 0.6761730909347534\n",
            "Epoch 5: r2_train = 0.6498485207557678, r2_val = 0.7168112993240356\n",
            "Epoch 6: r2_train = 0.6730341911315918, r2_val = 0.7245895862579346\n",
            "Epoch 7: r2_train = 0.683568000793457, r2_val = 0.7084208726882935\n",
            "Epoch 8: r2_train = 0.6886746287345886, r2_val = 0.6876895427703857\n",
            "Epoch 9: r2_train = 0.6864084005355835, r2_val = 0.6406201720237732\n",
            "Epoch 10: r2_train = 0.7024306058883667, r2_val = 0.6920178532600403\n"
          ]
        }
      ]
    },
    {
      "cell_type": "code",
      "source": [
        "show_metrics(r2_train_list_Adam, r2_test_list_Adam, 'Adam')"
      ],
      "metadata": {
        "colab": {
          "base_uri": "https://localhost:8080/",
          "height": 295
        },
        "id": "2FStGjKsDYKB",
        "outputId": "5cf1fa94-36e8-4725-e77f-5236cacbb788"
      },
      "execution_count": 20,
      "outputs": [
        {
          "output_type": "display_data",
          "data": {
            "text/plain": [
              "<Figure size 432x288 with 1 Axes>"
            ],
            "image/png": "[encoded data removed]"
          },
          "metadata": {
            "needs_background": "light"
          }
        }
      ]
    },
    {
      "cell_type": "markdown",
      "source": [
        "RMSprop"
      ],
      "metadata": {
        "id": "kAAAbgvMDeRs"
      }
    },
    {
      "cell_type": "code",
      "source": [
        "model = FeedForward(8, 400)\n",
        "optimizer = torch.optim.RMSprop(model.parameters(), lr=0.001)\n",
        "r2_train_list_RMS, r2_test_list_RMS = model_testing(model, optimizer, 10)"
      ],
      "metadata": {
        "colab": {
          "base_uri": "https://localhost:8080/"
        },
        "id": "1rjosptSDiBV",
        "outputId": "38810b97-57df-4a4a-e831-d8f8ac10ea61"
      },
      "execution_count": 21,
      "outputs": [
        {
          "output_type": "stream",
          "name": "stdout",
          "text": [
            "Epoch 1: r2_train = 0.16391408443450928, r2_val = 0.5472514629364014\n",
            "Epoch 2: r2_train = 0.5335739850997925, r2_val = 0.5961681604385376\n",
            "Epoch 3: r2_train = 0.5999305248260498, r2_val = 0.6488891243934631\n",
            "Epoch 4: r2_train = 0.6375585198402405, r2_val = 0.7112250328063965\n",
            "Epoch 5: r2_train = 0.6531606316566467, r2_val = 0.6528617739677429\n",
            "Epoch 6: r2_train = 0.6783630847930908, r2_val = 0.639369010925293\n",
            "Epoch 7: r2_train = 0.6891834139823914, r2_val = 0.722608208656311\n",
            "Epoch 8: r2_train = 0.6819877028465271, r2_val = 0.6620222926139832\n",
            "Epoch 9: r2_train = 0.7068423628807068, r2_val = 0.7074940204620361\n",
            "Epoch 10: r2_train = 0.7117273807525635, r2_val = 0.690086841583252\n"
          ]
        }
      ]
    },
    {
      "cell_type": "code",
      "source": [
        "show_metrics(r2_train_list_RMS, r2_test_list_RMS, 'RMSprop')"
      ],
      "metadata": {
        "colab": {
          "base_uri": "https://localhost:8080/",
          "height": 295
        },
        "id": "AIoCeeA9Dt-c",
        "outputId": "e5de8de0-506f-4535-eb20-9157dcc4a513"
      },
      "execution_count": 22,
      "outputs": [
        {
          "output_type": "display_data",
          "data": {
            "text/plain": [
              "<Figure size 432x288 with 1 Axes>"
            ],
            "image/png": "[encoded data removed]"
          },
          "metadata": {
            "needs_background": "light"
          }
        }
      ]
    },
    {
      "cell_type": "code",
      "source": [
        "metrics_result = pd.DataFrame([{'r2_train': r2_train_list_SGD[-1].item(), 'r2_test': r2_test_list_SGD[-1].item()},\n",
        "                               {'r2_train': r2_train_list_Adam[-1].item(), 'r2_test': r2_test_list_Adam[-1].item()},\n",
        "                               {'r2_train': r2_train_list_RMS[-1].item(), 'r2_test': r2_test_list_RMS[-1].item()}],\n",
        "                              index =['SGD', 'Adam', 'RMSprop'], \n",
        "                              columns =['r2_train', 'r2_test'])\n",
        "\n",
        "metrics_result.sort_values(by='r2_test', ascending=False)"
      ],
      "metadata": {
        "colab": {
          "base_uri": "https://localhost:8080/",
          "height": 143
        },
        "id": "v-EsQin7D2OW",
        "outputId": "47757c0a-9525-4914-b0e3-b528045431ca"
      },
      "execution_count": 23,
      "outputs": [
        {
          "output_type": "execute_result",
          "data": {
            "text/plain": [
              "         r2_train   r2_test\n",
              "Adam     0.702431  0.692018\n",
              "RMSprop  0.711727  0.690087\n",
              "SGD      0.672324  0.686777"
            ],
            "text/html": [
              "\n",
              "  <div id=\"df-d1153032-705b-4131-a6de-1c9725d323bf\">\n",
              "    <div class=\"colab-df-container\">\n",
              "      <div>\n",
              "<style scoped>\n",
              "    .dataframe tbody tr th:only-of-type {\n",
              "        vertical-align: middle;\n",
              "    }\n",
              "\n",
              "    .dataframe tbody tr th {\n",
              "        vertical-align: top;\n",
              "    }\n",
              "\n",
              "    .dataframe thead th {\n",
              "        text-align: right;\n",
              "    }\n",
              "</style>\n",
              "<table border=\"1\" class=\"dataframe\">\n",
              "  <thead>\n",
              "    <tr style=\"text-align: right;\">\n",
              "      <th></th>\n",
              "      <th>r2_train</th>\n",
              "      <th>r2_test</th>\n",
              "    </tr>\n",
              "  </thead>\n",
              "  <tbody>\n",
              "    <tr>\n",
              "      <th>Adam</th>\n",
              "      <td>0.702431</td>\n",
              "      <td>0.692018</td>\n",
              "    </tr>\n",
              "    <tr>\n",
              "      <th>RMSprop</th>\n",
              "      <td>0.711727</td>\n",
              "      <td>0.690087</td>\n",
              "    </tr>\n",
              "    <tr>\n",
              "      <th>SGD</th>\n",
              "      <td>0.672324</td>\n",
              "      <td>0.686777</td>\n",
              "    </tr>\n",
              "  </tbody>\n",
              "</table>\n",
              "</div>\n",
              "      <button class=\"colab-df-convert\" onclick=\"convertToInteractive('df-d1153032-705b-4131-a6de-1c9725d323bf')\"\n",
              "              title=\"Convert this dataframe to an interactive table.\"\n",
              "              style=\"display:none;\">\n",
              "        \n",
              "  <svg xmlns=\"http://www.w3.org/2000/svg\" height=\"24px\"viewBox=\"0 0 24 24\"\n",
              "       width=\"24px\">\n",
              "    <path d=\"M0 0h24v24H0V0z\" fill=\"none\"/>\n",
              "    <path d=\"M18.56 5.44l.94 2.06.94-2.06 2.06-.94-2.06-.94-.94-2.06-.94 2.06-2.06.94zm-11 1L8.5 8.5l.94-2.06 2.06-.94-2.06-.94L8.5 2.5l-.94 2.06-2.06.94zm10 10l.94 2.06.94-2.06 2.06-.94-2.06-.94-.94-2.06-.94 2.06-2.06.94z\"/><path d=\"M17.41 7.96l-1.37-1.37c-.4-.4-.92-.59-1.43-.59-.52 0-1.04.2-1.43.59L10.3 9.45l-7.72 7.72c-.78.78-.78 2.05 0 2.83L4 21.41c.39.39.9.59 1.41.59.51 0 1.02-.2 1.41-.59l7.78-7.78 2.81-2.81c.8-.78.8-2.07 0-2.86zM5.41 20L4 18.59l7.72-7.72 1.47 1.35L5.41 20z\"/>\n",
              "  </svg>\n",
              "      </button>\n",
              "      \n",
              "  <style>\n",
              "    .colab-df-container {\n",
              "      display:flex;\n",
              "      flex-wrap:wrap;\n",
              "      gap: 12px;\n",
              "    }\n",
              "\n",
              "    .colab-df-convert {\n",
              "      background-color: #E8F0FE;\n",
              "      border: none;\n",
              "      border-radius: 50%;\n",
              "      cursor: pointer;\n",
              "      display: none;\n",
              "      fill: #1967D2;\n",
              "      height: 32px;\n",
              "      padding: 0 0 0 0;\n",
              "      width: 32px;\n",
              "    }\n",
              "\n",
              "    .colab-df-convert:hover {\n",
              "      background-color: #E2EBFA;\n",
              "      box-shadow: 0px 1px 2px rgba(60, 64, 67, 0.3), 0px 1px 3px 1px rgba(60, 64, 67, 0.15);\n",
              "      fill: #174EA6;\n",
              "    }\n",
              "\n",
              "    [theme=dark] .colab-df-convert {\n",
              "      background-color: #3B4455;\n",
              "      fill: #D2E3FC;\n",
              "    }\n",
              "\n",
              "    [theme=dark] .colab-df-convert:hover {\n",
              "      background-color: #434B5C;\n",
              "      box-shadow: 0px 1px 3px 1px rgba(0, 0, 0, 0.15);\n",
              "      filter: drop-shadow(0px 1px 2px rgba(0, 0, 0, 0.3));\n",
              "      fill: #FFFFFF;\n",
              "    }\n",
              "  </style>\n",
              "\n",
              "      <script>\n",
              "        const buttonEl =\n",
              "          document.querySelector('#df-d1153032-705b-4131-a6de-1c9725d323bf button.colab-df-convert');\n",
              "        buttonEl.style.display =\n",
              "          google.colab.kernel.accessAllowed ? 'block' : 'none';\n",
              "\n",
              "        async function convertToInteractive(key) {\n",
              "          const element = document.querySelector('#df-d1153032-705b-4131-a6de-1c9725d323bf');\n",
              "          const dataTable =\n",
              "            await google.colab.kernel.invokeFunction('convertToInteractive',\n",
              "                                                     [key], {});\n",
              "          if (!dataTable) return;\n",
              "\n",
              "          const docLinkHtml = 'Like what you see? Visit the ' +\n",
              "            '<a target=\"_blank\" href=https://colab.research.google.com/notebooks/data_table.ipynb>data table notebook</a>'\n",
              "            + ' to learn more about interactive tables.';\n",
              "          element.innerHTML = '';\n",
              "          dataTable['output_type'] = 'display_data';\n",
              "          await google.colab.output.renderOutput(dataTable, element);\n",
              "          const docLink = document.createElement('div');\n",
              "          docLink.innerHTML = docLinkHtml;\n",
              "          element.appendChild(docLink);\n",
              "        }\n",
              "      </script>\n",
              "    </div>\n",
              "  </div>\n",
              "  "
            ]
          },
          "metadata": {},
          "execution_count": 23
        }
      ]
    },
    {
      "cell_type": "markdown",
      "source": [
        "На тесте наилучшие показатели показал оптимизатор Adam"
      ],
      "metadata": {
        "id": "3YlYuMZyD_D1"
      }
    },
    {
      "cell_type": "code",
      "source": [
        ""
      ],
      "metadata": {
        "id": "sDb7yB_yEIHz"
      },
      "execution_count": null,
      "outputs": []
    }
  ]
}